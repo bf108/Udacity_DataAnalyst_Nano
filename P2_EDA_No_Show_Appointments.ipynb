{
 "cells": [
  {
   "cell_type": "markdown",
   "metadata": {},
   "source": [
    "# Project: EDA on Medical Appointment Attendance in Brazil\n",
    "\n",
    "## Author: Ben Farrell\n",
    "## Date: 03/04/2020\n",
    "\n",
    "## Table of Contents\n",
    "<ul>\n",
    "<li><a href=\"#exec\">Exectutive Summary</a></li>\n",
    "<li><a href=\"#Acr\">Acronyms</a></li>\n",
    "<li><a href=\"#intro\">Introduction</a></li>\n",
    "<li><a href=\"#wrangling\">Data Wrangling</a></li>\n",
    "<li><a href=\"#eda\">Exploratory Data Analysis</a></li>\n",
    "<li><a href=\"#conclusions\">Conclusions</a></li>\n",
    "<li><a href=\"#ref\">References</a></li>  \n",
    "</ul>"
   ]
  },
  {
   "cell_type": "markdown",
   "metadata": {},
   "source": [
    "<a id='exec'></a>\n",
    "## Executive Summary\n",
    "\n",
    "This project consisted of evaluating patient attendance data.\n",
    "\n",
    "Prior to the investigation, the following questions were posed:\n",
    "\n",
    "1. Does Gender impact the likihood of a patient attending the appointment?\n",
    "2. Does Welfare Status impact the likihood of a patient attending the appointment?\n",
    "3. Does appointment day impact the likihood of a patient attending the appointment?\n",
    "4. Does an SMS Notification impact the likihood of a patient attending the appointment?\n",
    "\n",
    "\n",
    "The analysis revealed the following:\n",
    "\n",
    " - Gender makes virutally no impact on attendance. Males and females both attend/miss appointments at the same rate.\n",
    " \n",
    " - Patients on welfare were slightly more likely to miss their appointment.\n",
    "\n",
    " - Thursday appointments had the lowest likelihood \"no-show\", whereas the highest \"no-show\" rate was Saturday.\n",
    "\n",
    " - Counterintuitively, patients who received an SMS were more likely to miss their appointment."
   ]
  },
  {
   "cell_type": "markdown",
   "metadata": {},
   "source": [
    "<a id='Acr'></a>\n",
    "## Acronyms"
   ]
  },
  {
   "cell_type": "markdown",
   "metadata": {},
   "source": [
    " - With Respect To - WRT"
   ]
  },
  {
   "cell_type": "markdown",
   "metadata": {},
   "source": [
    "<a id='intro'></a>\n",
    "## Introduction"
   ]
  },
  {
   "cell_type": "markdown",
   "metadata": {},
   "source": [
    "Import necessary libraries and modules and set some parameters for plotting"
   ]
  },
  {
   "cell_type": "code",
   "execution_count": 1,
   "metadata": {},
   "outputs": [],
   "source": [
    "import pandas as pd\n",
    "import numpy as np\n",
    "import matplotlib.pyplot as plt\n",
    "from matplotlib import pylab\n",
    "import seaborn as sns\n",
    "from IPython.display import Markdown, display\n",
    "import datetime\n",
    "\n",
    "%matplotlib inline\n",
    "\n",
    "\n",
    "# Add some predefined formatting for matplotlib\n",
    "plt.rcParams['figure.figsize'] = (12,6)\n",
    "axisfont = 14\n",
    "labelfont = 15"
   ]
  },
  {
   "cell_type": "markdown",
   "metadata": {},
   "source": [
    "Create a function to enable markdown style print functions"
   ]
  },
  {
   "cell_type": "code",
   "execution_count": 2,
   "metadata": {},
   "outputs": [],
   "source": [
    "def printmd(string):\n",
    "    display(Markdown(string))"
   ]
  },
  {
   "cell_type": "markdown",
   "metadata": {},
   "source": [
    "<a id='wrangling'></a>\n",
    "## Data Wrangling"
   ]
  },
  {
   "cell_type": "code",
   "execution_count": 3,
   "metadata": {},
   "outputs": [
    {
     "data": {
      "text/html": [
       "<div>\n",
       "<style scoped>\n",
       "    .dataframe tbody tr th:only-of-type {\n",
       "        vertical-align: middle;\n",
       "    }\n",
       "\n",
       "    .dataframe tbody tr th {\n",
       "        vertical-align: top;\n",
       "    }\n",
       "\n",
       "    .dataframe thead th {\n",
       "        text-align: right;\n",
       "    }\n",
       "</style>\n",
       "<table border=\"1\" class=\"dataframe\">\n",
       "  <thead>\n",
       "    <tr style=\"text-align: right;\">\n",
       "      <th></th>\n",
       "      <th>PatientId</th>\n",
       "      <th>AppointmentID</th>\n",
       "      <th>Gender</th>\n",
       "      <th>ScheduledDay</th>\n",
       "      <th>AppointmentDay</th>\n",
       "      <th>Age</th>\n",
       "      <th>Neighbourhood</th>\n",
       "      <th>Scholarship</th>\n",
       "      <th>Hipertension</th>\n",
       "      <th>Diabetes</th>\n",
       "      <th>Alcoholism</th>\n",
       "      <th>Handcap</th>\n",
       "      <th>SMS_received</th>\n",
       "      <th>No-show</th>\n",
       "    </tr>\n",
       "  </thead>\n",
       "  <tbody>\n",
       "    <tr>\n",
       "      <th>0</th>\n",
       "      <td>2.987250e+13</td>\n",
       "      <td>5642903</td>\n",
       "      <td>F</td>\n",
       "      <td>2016-04-29T18:38:08Z</td>\n",
       "      <td>2016-04-29T00:00:00Z</td>\n",
       "      <td>62</td>\n",
       "      <td>JARDIM DA PENHA</td>\n",
       "      <td>0</td>\n",
       "      <td>1</td>\n",
       "      <td>0</td>\n",
       "      <td>0</td>\n",
       "      <td>0</td>\n",
       "      <td>0</td>\n",
       "      <td>No</td>\n",
       "    </tr>\n",
       "    <tr>\n",
       "      <th>1</th>\n",
       "      <td>5.589978e+14</td>\n",
       "      <td>5642503</td>\n",
       "      <td>M</td>\n",
       "      <td>2016-04-29T16:08:27Z</td>\n",
       "      <td>2016-04-29T00:00:00Z</td>\n",
       "      <td>56</td>\n",
       "      <td>JARDIM DA PENHA</td>\n",
       "      <td>0</td>\n",
       "      <td>0</td>\n",
       "      <td>0</td>\n",
       "      <td>0</td>\n",
       "      <td>0</td>\n",
       "      <td>0</td>\n",
       "      <td>No</td>\n",
       "    </tr>\n",
       "    <tr>\n",
       "      <th>2</th>\n",
       "      <td>4.262962e+12</td>\n",
       "      <td>5642549</td>\n",
       "      <td>F</td>\n",
       "      <td>2016-04-29T16:19:04Z</td>\n",
       "      <td>2016-04-29T00:00:00Z</td>\n",
       "      <td>62</td>\n",
       "      <td>MATA DA PRAIA</td>\n",
       "      <td>0</td>\n",
       "      <td>0</td>\n",
       "      <td>0</td>\n",
       "      <td>0</td>\n",
       "      <td>0</td>\n",
       "      <td>0</td>\n",
       "      <td>No</td>\n",
       "    </tr>\n",
       "    <tr>\n",
       "      <th>3</th>\n",
       "      <td>8.679512e+11</td>\n",
       "      <td>5642828</td>\n",
       "      <td>F</td>\n",
       "      <td>2016-04-29T17:29:31Z</td>\n",
       "      <td>2016-04-29T00:00:00Z</td>\n",
       "      <td>8</td>\n",
       "      <td>PONTAL DE CAMBURI</td>\n",
       "      <td>0</td>\n",
       "      <td>0</td>\n",
       "      <td>0</td>\n",
       "      <td>0</td>\n",
       "      <td>0</td>\n",
       "      <td>0</td>\n",
       "      <td>No</td>\n",
       "    </tr>\n",
       "    <tr>\n",
       "      <th>4</th>\n",
       "      <td>8.841186e+12</td>\n",
       "      <td>5642494</td>\n",
       "      <td>F</td>\n",
       "      <td>2016-04-29T16:07:23Z</td>\n",
       "      <td>2016-04-29T00:00:00Z</td>\n",
       "      <td>56</td>\n",
       "      <td>JARDIM DA PENHA</td>\n",
       "      <td>0</td>\n",
       "      <td>1</td>\n",
       "      <td>1</td>\n",
       "      <td>0</td>\n",
       "      <td>0</td>\n",
       "      <td>0</td>\n",
       "      <td>No</td>\n",
       "    </tr>\n",
       "  </tbody>\n",
       "</table>\n",
       "</div>"
      ],
      "text/plain": [
       "      PatientId  AppointmentID Gender          ScheduledDay  \\\n",
       "0  2.987250e+13        5642903      F  2016-04-29T18:38:08Z   \n",
       "1  5.589978e+14        5642503      M  2016-04-29T16:08:27Z   \n",
       "2  4.262962e+12        5642549      F  2016-04-29T16:19:04Z   \n",
       "3  8.679512e+11        5642828      F  2016-04-29T17:29:31Z   \n",
       "4  8.841186e+12        5642494      F  2016-04-29T16:07:23Z   \n",
       "\n",
       "         AppointmentDay  Age      Neighbourhood  Scholarship  Hipertension  \\\n",
       "0  2016-04-29T00:00:00Z   62    JARDIM DA PENHA            0             1   \n",
       "1  2016-04-29T00:00:00Z   56    JARDIM DA PENHA            0             0   \n",
       "2  2016-04-29T00:00:00Z   62      MATA DA PRAIA            0             0   \n",
       "3  2016-04-29T00:00:00Z    8  PONTAL DE CAMBURI            0             0   \n",
       "4  2016-04-29T00:00:00Z   56    JARDIM DA PENHA            0             1   \n",
       "\n",
       "   Diabetes  Alcoholism  Handcap  SMS_received No-show  \n",
       "0         0           0        0             0      No  \n",
       "1         0           0        0             0      No  \n",
       "2         0           0        0             0      No  \n",
       "3         0           0        0             0      No  \n",
       "4         1           0        0             0      No  "
      ]
     },
     "execution_count": 3,
     "metadata": {},
     "output_type": "execute_result"
    }
   ],
   "source": [
    "# Load your data and print out a few lines. Perform operations to inspect data\n",
    "df = pd.read_csv('noshowappointments-kagglev2-may-2016.csv')\n",
    "df.head()"
   ]
  },
  {
   "cell_type": "code",
   "execution_count": 4,
   "metadata": {},
   "outputs": [
    {
     "name": "stdout",
     "output_type": "stream",
     "text": [
      "The data set has 110527 rows and 14 columns\n"
     ]
    }
   ],
   "source": [
    "print('The data set has {} rows and {} columns'.format(df.shape[0],df.shape[1]))"
   ]
  },
  {
   "cell_type": "markdown",
   "metadata": {},
   "source": [
    "The columns is this Data Set Are:\n",
    "\n",
    "- PatientID - Unique ID for each patient. **This feature will be dropped**\n",
    "- AppointmentID - Unique ID for each appointment. **This feature will be dropped**\n",
    "- Gender - Male / Female\n",
    "- ScheduleDay - Date the appointment was scheduled\n",
    "- AppointmentDay - Date of appointment\n",
    "- Age - Age of patient in years.\n",
    "- Neighbourhood - Where the appointment takes place\n",
    "- Scholarship - Binary (1/0) whether the patient is entitled to Social Welfare or not. Yes = 1, No = 0\n",
    "- Hipertension - Binary (1/0) whether the patient has Hipertension or not. Yes = 1, No = 0\n",
    "- Diabetes - Binary (1/0) whether the patient has Diabetes or not. Yes = 1, No = 0\n",
    "- Alcoholism - Binary (1/0) whether the patient has Alcoholism or not. Yes = 1, No = 0\n",
    "- Handcap - Score of 0 - 4 for Disability Scale.\n",
    "    - 0 - No disability\n",
    "    - 1 - Minor\n",
    "    - 2 - Moderate\n",
    "    - 3 - High\n",
    "    - 4 - Severe\n",
    "- SMS_received - Binary (1/0) whether the patient received a text message reminder. Yes = 1, No = 0\n",
    "- No-show - Binary (Yes/No) whether the patient showed up. No = Attended, Yes = Did not attend"
   ]
  },
  {
   "cell_type": "markdown",
   "metadata": {},
   "source": [
    "### Check for any Duplicate Rows and Missing Values\n"
   ]
  },
  {
   "cell_type": "markdown",
   "metadata": {},
   "source": [
    "There are no duplicated rows in the data"
   ]
  },
  {
   "cell_type": "code",
   "execution_count": 5,
   "metadata": {},
   "outputs": [
    {
     "data": {
      "text/plain": [
       "array([False])"
      ]
     },
     "execution_count": 5,
     "metadata": {},
     "output_type": "execute_result"
    }
   ],
   "source": [
    "df.duplicated().unique()"
   ]
  },
  {
   "cell_type": "markdown",
   "metadata": {},
   "source": [
    "There are no missing values in the dataset"
   ]
  },
  {
   "cell_type": "code",
   "execution_count": 6,
   "metadata": {},
   "outputs": [
    {
     "data": {
      "text/plain": [
       "PatientId         False\n",
       "AppointmentID     False\n",
       "Gender            False\n",
       "ScheduledDay      False\n",
       "AppointmentDay    False\n",
       "Age               False\n",
       "Neighbourhood     False\n",
       "Scholarship       False\n",
       "Hipertension      False\n",
       "Diabetes          False\n",
       "Alcoholism        False\n",
       "Handcap           False\n",
       "SMS_received      False\n",
       "No-show           False\n",
       "dtype: bool"
      ]
     },
     "execution_count": 6,
     "metadata": {},
     "output_type": "execute_result"
    }
   ],
   "source": [
    "df.isna().any()"
   ]
  },
  {
   "cell_type": "markdown",
   "metadata": {},
   "source": [
    "### Remove Features that Provide No Insight"
   ]
  },
  {
   "cell_type": "markdown",
   "metadata": {},
   "source": [
    "PatientID and AppointId are only ID tags and don't provide any insight into our analysis of determining what factors influence a patient showing up for an appointment."
   ]
  },
  {
   "cell_type": "code",
   "execution_count": 7,
   "metadata": {},
   "outputs": [],
   "source": [
    "df.drop(['AppointmentID','PatientId'],axis=1,inplace=True)"
   ]
  },
  {
   "cell_type": "markdown",
   "metadata": {},
   "source": [
    "- Now satisfied that patientId and AppointmentID have been deleted from the datatframe.\n",
    "\n",
    "\n",
    "- It is evident that there are no missing values as each feature has __110527__ rows."
   ]
  },
  {
   "cell_type": "markdown",
   "metadata": {},
   "source": [
    "### Further Data Inspection & Cleaning"
   ]
  },
  {
   "cell_type": "markdown",
   "metadata": {},
   "source": [
    "- The data in ScheduleDay and AppointmentDay is currently stored as a String.\n",
    "\n",
    "\n",
    "- This is to be converted to DataTime Format"
   ]
  },
  {
   "cell_type": "code",
   "execution_count": 8,
   "metadata": {},
   "outputs": [],
   "source": [
    "df['ScheduledDay'] = pd.to_datetime(df['ScheduledDay']).dt.normalize()\n",
    "df['AppointmentDay'] = pd.to_datetime(df['AppointmentDay']).dt.normalize()"
   ]
  },
  {
   "cell_type": "markdown",
   "metadata": {},
   "source": [
    "Review our dataset to spot anomolies and outliers"
   ]
  },
  {
   "cell_type": "code",
   "execution_count": 9,
   "metadata": {},
   "outputs": [
    {
     "data": {
      "text/html": [
       "<div>\n",
       "<style scoped>\n",
       "    .dataframe tbody tr th:only-of-type {\n",
       "        vertical-align: middle;\n",
       "    }\n",
       "\n",
       "    .dataframe tbody tr th {\n",
       "        vertical-align: top;\n",
       "    }\n",
       "\n",
       "    .dataframe thead th {\n",
       "        text-align: right;\n",
       "    }\n",
       "</style>\n",
       "<table border=\"1\" class=\"dataframe\">\n",
       "  <thead>\n",
       "    <tr style=\"text-align: right;\">\n",
       "      <th></th>\n",
       "      <th>Age</th>\n",
       "      <th>Scholarship</th>\n",
       "      <th>Hipertension</th>\n",
       "      <th>Diabetes</th>\n",
       "      <th>Alcoholism</th>\n",
       "      <th>Handcap</th>\n",
       "      <th>SMS_received</th>\n",
       "    </tr>\n",
       "  </thead>\n",
       "  <tbody>\n",
       "    <tr>\n",
       "      <th>count</th>\n",
       "      <td>110527.000000</td>\n",
       "      <td>110527.000000</td>\n",
       "      <td>110527.000000</td>\n",
       "      <td>110527.000000</td>\n",
       "      <td>110527.000000</td>\n",
       "      <td>110527.000000</td>\n",
       "      <td>110527.000000</td>\n",
       "    </tr>\n",
       "    <tr>\n",
       "      <th>mean</th>\n",
       "      <td>37.088874</td>\n",
       "      <td>0.098266</td>\n",
       "      <td>0.197246</td>\n",
       "      <td>0.071865</td>\n",
       "      <td>0.030400</td>\n",
       "      <td>0.022248</td>\n",
       "      <td>0.321026</td>\n",
       "    </tr>\n",
       "    <tr>\n",
       "      <th>std</th>\n",
       "      <td>23.110205</td>\n",
       "      <td>0.297675</td>\n",
       "      <td>0.397921</td>\n",
       "      <td>0.258265</td>\n",
       "      <td>0.171686</td>\n",
       "      <td>0.161543</td>\n",
       "      <td>0.466873</td>\n",
       "    </tr>\n",
       "    <tr>\n",
       "      <th>min</th>\n",
       "      <td>-1.000000</td>\n",
       "      <td>0.000000</td>\n",
       "      <td>0.000000</td>\n",
       "      <td>0.000000</td>\n",
       "      <td>0.000000</td>\n",
       "      <td>0.000000</td>\n",
       "      <td>0.000000</td>\n",
       "    </tr>\n",
       "    <tr>\n",
       "      <th>25%</th>\n",
       "      <td>18.000000</td>\n",
       "      <td>0.000000</td>\n",
       "      <td>0.000000</td>\n",
       "      <td>0.000000</td>\n",
       "      <td>0.000000</td>\n",
       "      <td>0.000000</td>\n",
       "      <td>0.000000</td>\n",
       "    </tr>\n",
       "    <tr>\n",
       "      <th>50%</th>\n",
       "      <td>37.000000</td>\n",
       "      <td>0.000000</td>\n",
       "      <td>0.000000</td>\n",
       "      <td>0.000000</td>\n",
       "      <td>0.000000</td>\n",
       "      <td>0.000000</td>\n",
       "      <td>0.000000</td>\n",
       "    </tr>\n",
       "    <tr>\n",
       "      <th>75%</th>\n",
       "      <td>55.000000</td>\n",
       "      <td>0.000000</td>\n",
       "      <td>0.000000</td>\n",
       "      <td>0.000000</td>\n",
       "      <td>0.000000</td>\n",
       "      <td>0.000000</td>\n",
       "      <td>1.000000</td>\n",
       "    </tr>\n",
       "    <tr>\n",
       "      <th>max</th>\n",
       "      <td>115.000000</td>\n",
       "      <td>1.000000</td>\n",
       "      <td>1.000000</td>\n",
       "      <td>1.000000</td>\n",
       "      <td>1.000000</td>\n",
       "      <td>4.000000</td>\n",
       "      <td>1.000000</td>\n",
       "    </tr>\n",
       "  </tbody>\n",
       "</table>\n",
       "</div>"
      ],
      "text/plain": [
       "                 Age    Scholarship   Hipertension       Diabetes  \\\n",
       "count  110527.000000  110527.000000  110527.000000  110527.000000   \n",
       "mean       37.088874       0.098266       0.197246       0.071865   \n",
       "std        23.110205       0.297675       0.397921       0.258265   \n",
       "min        -1.000000       0.000000       0.000000       0.000000   \n",
       "25%        18.000000       0.000000       0.000000       0.000000   \n",
       "50%        37.000000       0.000000       0.000000       0.000000   \n",
       "75%        55.000000       0.000000       0.000000       0.000000   \n",
       "max       115.000000       1.000000       1.000000       1.000000   \n",
       "\n",
       "          Alcoholism        Handcap   SMS_received  \n",
       "count  110527.000000  110527.000000  110527.000000  \n",
       "mean        0.030400       0.022248       0.321026  \n",
       "std         0.171686       0.161543       0.466873  \n",
       "min         0.000000       0.000000       0.000000  \n",
       "25%         0.000000       0.000000       0.000000  \n",
       "50%         0.000000       0.000000       0.000000  \n",
       "75%         0.000000       0.000000       1.000000  \n",
       "max         1.000000       4.000000       1.000000  "
      ]
     },
     "execution_count": 9,
     "metadata": {},
     "output_type": "execute_result"
    }
   ],
   "source": [
    "df.describe()"
   ]
  },
  {
   "cell_type": "code",
   "execution_count": 10,
   "metadata": {},
   "outputs": [
    {
     "data": {
      "image/png": "[encoded data removed]",
      "text/plain": [
       "<Figure size 720x720 with 9 Axes>"
      ]
     },
     "metadata": {
      "needs_background": "light"
     },
     "output_type": "display_data"
    }
   ],
   "source": [
    "df.hist(figsize=(10,10));"
   ]
  },
  {
   "cell_type": "markdown",
   "metadata": {},
   "source": [
    " - Reviewing the output from the describe function shows that all features except __Age__ appear to have consistant data and no outliers.\n",
    " \n",
    "\n",
    " - The __Age__ column has a minimum of __-1 year__. This needs to be investigated becaues it is not possible to have an age less than 0.\n",
    " \n",
    " \n",
    " - The distribution of ages will be reviewed visually with a histrogram."
   ]
  },
  {
   "cell_type": "code",
   "execution_count": 11,
   "metadata": {},
   "outputs": [
    {
     "data": {
      "image/png": "[encoded data removed]",
      "text/plain": [
       "<Figure size 864x432 with 1 Axes>"
      ]
     },
     "metadata": {
      "needs_background": "light"
     },
     "output_type": "display_data"
    }
   ],
   "source": [
    "plt.hist(df.Age,bins=115)\n",
    "plt.title('Distribution of Patient Ages',fontsize=labelfont)\n",
    "plt.xlabel('Age',fontsize=labelfont);\n",
    "plt.ylabel('Count',fontsize=labelfont)\n",
    "plt.grid(b=True,which='major',axis='both')\n",
    "plt.xticks(fontsize=axisfont)\n",
    "plt.yticks(fontsize=axisfont);\n",
    "#plt.legend(loc='best',fontsize=labelfont);"
   ]
  },
  {
   "cell_type": "code",
   "execution_count": 12,
   "metadata": {},
   "outputs": [
    {
     "data": {
      "text/html": [
       "<div>\n",
       "<style scoped>\n",
       "    .dataframe tbody tr th:only-of-type {\n",
       "        vertical-align: middle;\n",
       "    }\n",
       "\n",
       "    .dataframe tbody tr th {\n",
       "        vertical-align: top;\n",
       "    }\n",
       "\n",
       "    .dataframe thead th {\n",
       "        text-align: right;\n",
       "    }\n",
       "</style>\n",
       "<table border=\"1\" class=\"dataframe\">\n",
       "  <thead>\n",
       "    <tr style=\"text-align: right;\">\n",
       "      <th></th>\n",
       "      <th>Gender</th>\n",
       "      <th>ScheduledDay</th>\n",
       "      <th>AppointmentDay</th>\n",
       "      <th>Age</th>\n",
       "      <th>Neighbourhood</th>\n",
       "      <th>Scholarship</th>\n",
       "      <th>Hipertension</th>\n",
       "      <th>Diabetes</th>\n",
       "      <th>Alcoholism</th>\n",
       "      <th>Handcap</th>\n",
       "      <th>SMS_received</th>\n",
       "      <th>No-show</th>\n",
       "    </tr>\n",
       "  </thead>\n",
       "  <tbody>\n",
       "    <tr>\n",
       "      <th>99832</th>\n",
       "      <td>F</td>\n",
       "      <td>2016-06-06 00:00:00+00:00</td>\n",
       "      <td>2016-06-06 00:00:00+00:00</td>\n",
       "      <td>-1</td>\n",
       "      <td>ROMÃO</td>\n",
       "      <td>0</td>\n",
       "      <td>0</td>\n",
       "      <td>0</td>\n",
       "      <td>0</td>\n",
       "      <td>0</td>\n",
       "      <td>0</td>\n",
       "      <td>No</td>\n",
       "    </tr>\n",
       "  </tbody>\n",
       "</table>\n",
       "</div>"
      ],
      "text/plain": [
       "      Gender              ScheduledDay            AppointmentDay  Age  \\\n",
       "99832      F 2016-06-06 00:00:00+00:00 2016-06-06 00:00:00+00:00   -1   \n",
       "\n",
       "      Neighbourhood  Scholarship  Hipertension  Diabetes  Alcoholism  Handcap  \\\n",
       "99832         ROMÃO            0             0         0           0        0   \n",
       "\n",
       "       SMS_received No-show  \n",
       "99832             0      No  "
      ]
     },
     "execution_count": 12,
     "metadata": {},
     "output_type": "execute_result"
    }
   ],
   "source": [
    "df[df['Age'] < 0]"
   ]
  },
  {
   "cell_type": "markdown",
   "metadata": {},
   "source": [
    "There is only a single case where the age is -1. This row will be dropped from the dataframe."
   ]
  },
  {
   "cell_type": "code",
   "execution_count": 13,
   "metadata": {},
   "outputs": [],
   "source": [
    "minusage = df[df['Age'] < 0]\n",
    "df.drop(minusage.index,inplace=True)"
   ]
  },
  {
   "cell_type": "markdown",
   "metadata": {},
   "source": [
    "It is now evident that the remaining age data for patients is all >= 0 years.\n",
    "\n",
    "Those patients with age zero can be assumed to be babies who are less than 1 year old. \n",
    "\n",
    "Young babies are likely to require regular checkups which is confirmed by the data as ther is a skew to the LHS."
   ]
  },
  {
   "cell_type": "markdown",
   "metadata": {},
   "source": [
    "I would like to review the distribution of data on Disability \"Handcap\" column."
   ]
  },
  {
   "cell_type": "code",
   "execution_count": 14,
   "metadata": {},
   "outputs": [
    {
     "data": {
      "text/plain": [
       "0    108285\n",
       "1      2042\n",
       "2       183\n",
       "3        13\n",
       "4         3\n",
       "Name: Handcap, dtype: int64"
      ]
     },
     "execution_count": 14,
     "metadata": {},
     "output_type": "execute_result"
    }
   ],
   "source": [
    "df['Handcap'].value_counts()"
   ]
  },
  {
   "cell_type": "code",
   "execution_count": 15,
   "metadata": {},
   "outputs": [
    {
     "data": {
      "image/png": "[encoded data removed]",
      "text/plain": [
       "<Figure size 864x432 with 1 Axes>"
      ]
     },
     "metadata": {
      "needs_background": "light"
     },
     "output_type": "display_data"
    }
   ],
   "source": [
    "disability = ['None','Minor','Moderate','High','Severe']\n",
    "plt.hist(df.Handcap,bins=5)\n",
    "plt.title('Distribution Patient Disability',fontsize=labelfont)\n",
    "plt.xlabel('Disability Status',fontsize=labelfont);\n",
    "plt.ylabel('Count',fontsize=labelfont)\n",
    "plt.grid(b=True,which='major',axis='both')\n",
    "plt.xticks(np.arange(5),disability,fontsize=axisfont)\n",
    "plt.yticks(fontsize=axisfont);"
   ]
  },
  {
   "cell_type": "markdown",
   "metadata": {},
   "source": [
    "The distribution of patients with ranging disabilities appears to follow the expected pattern. Most of the sample population no disabilty. Increasing disability rating is accompanies by an excpected drop is cases."
   ]
  },
  {
   "cell_type": "markdown",
   "metadata": {},
   "source": [
    "### Additional Features\n",
    "\n",
    "I will now extract some additional features to help with the analysis. \n",
    "\n",
    "1. Day of the week the Appointment was scheduled for.\n",
    "2. Time period between booking and appointment - Unit Days\n",
    "3. I will make the No-Show columns more intuative.\n",
    "     - Missed appointments will be labelled **NoShow**\n",
    "     - Attended appointments will be labelled **Attended**"
   ]
  },
  {
   "cell_type": "markdown",
   "metadata": {},
   "source": [
    "#### Extract Day of Week From Appointment"
   ]
  },
  {
   "cell_type": "code",
   "execution_count": 16,
   "metadata": {},
   "outputs": [
    {
     "data": {
      "text/plain": [
       "Wednesday    25867\n",
       "Tuesday      25640\n",
       "Monday       22714\n",
       "Friday       19019\n",
       "Thursday     17247\n",
       "Saturday        39\n",
       "Name: Week_Day, dtype: int64"
      ]
     },
     "execution_count": 16,
     "metadata": {},
     "output_type": "execute_result"
    }
   ],
   "source": [
    "df['Week_Day'] = df['AppointmentDay'].dt.day_name()\n",
    "df['Week_Day'].value_counts()"
   ]
  },
  {
   "cell_type": "markdown",
   "metadata": {},
   "source": [
    "#### Generate new column with time period between booking and appointment"
   ]
  },
  {
   "cell_type": "code",
   "execution_count": 17,
   "metadata": {},
   "outputs": [],
   "source": [
    "df['Wait'] = (df['AppointmentDay'] - df['ScheduledDay']).apply(lambda x: x.days)"
   ]
  },
  {
   "cell_type": "markdown",
   "metadata": {},
   "source": [
    "#### Make No-Show column more intuative"
   ]
  },
  {
   "cell_type": "code",
   "execution_count": 18,
   "metadata": {},
   "outputs": [],
   "source": [
    "rename = {'Yes':'NoShow','No':'Attended'}\n",
    "df['No-show'] = df['No-show'].apply(lambda x: rename[x])"
   ]
  },
  {
   "cell_type": "markdown",
   "metadata": {},
   "source": [
    "Perform a final check on the dataframe before commencing the EDA"
   ]
  },
  {
   "cell_type": "code",
   "execution_count": 19,
   "metadata": {},
   "outputs": [
    {
     "name": "stdout",
     "output_type": "stream",
     "text": [
      "<class 'pandas.core.frame.DataFrame'>\n",
      "Int64Index: 110526 entries, 0 to 110526\n",
      "Data columns (total 14 columns):\n",
      " #   Column          Non-Null Count   Dtype              \n",
      "---  ------          --------------   -----              \n",
      " 0   Gender          110526 non-null  object             \n",
      " 1   ScheduledDay    110526 non-null  datetime64[ns, UTC]\n",
      " 2   AppointmentDay  110526 non-null  datetime64[ns, UTC]\n",
      " 3   Age             110526 non-null  int64              \n",
      " 4   Neighbourhood   110526 non-null  object             \n",
      " 5   Scholarship     110526 non-null  int64              \n",
      " 6   Hipertension    110526 non-null  int64              \n",
      " 7   Diabetes        110526 non-null  int64              \n",
      " 8   Alcoholism      110526 non-null  int64              \n",
      " 9   Handcap         110526 non-null  int64              \n",
      " 10  SMS_received    110526 non-null  int64              \n",
      " 11  No-show         110526 non-null  object             \n",
      " 12  Week_Day        110526 non-null  object             \n",
      " 13  Wait            110526 non-null  int64              \n",
      "dtypes: datetime64[ns, UTC](2), int64(8), object(4)\n",
      "memory usage: 12.6+ MB\n"
     ]
    }
   ],
   "source": [
    "df.info()"
   ]
  },
  {
   "cell_type": "markdown",
   "metadata": {},
   "source": [
    "<a id='eda'></a>\n",
    "## Exploratory Data Analysis\n",
    "\n",
    "### Review overall appointment attendance rates"
   ]
  },
  {
   "cell_type": "code",
   "execution_count": 20,
   "metadata": {},
   "outputs": [
    {
     "data": {
      "text/markdown": [
       "On average, **20.19%** of patients do not show up for their appointment."
      ],
      "text/plain": [
       "<IPython.core.display.Markdown object>"
      ]
     },
     "metadata": {},
     "output_type": "display_data"
    }
   ],
   "source": [
    "printmd('On average, **{:.2f}%** of patients do not show up for their appointment.'.format(100*df[df['No-show']=='NoShow'].shape[0]/df.shape[0]))"
   ]
  },
  {
   "cell_type": "code",
   "execution_count": 21,
   "metadata": {},
   "outputs": [
    {
     "data": {
      "image/png": "[encoded data removed]",
      "text/plain": [
       "<Figure size 720x432 with 1 Axes>"
      ]
     },
     "metadata": {
      "needs_background": "light"
     },
     "output_type": "display_data"
    }
   ],
   "source": [
    "noshows  = df['No-show'].value_counts()\n",
    "plt.figure(figsize=(10,6))\n",
    "sns.barplot(noshows.index, noshows.values, alpha=0.8)\n",
    "plt.title('Distribution of Patients who attended their appointments')\n",
    "plt.ylabel('Count', fontsize=12)\n",
    "plt.xlabel('Attendance', fontsize=12)\n",
    "plt.show()"
   ]
  },
  {
   "cell_type": "markdown",
   "metadata": {},
   "source": [
    "### Time Period of Evaluation"
   ]
  },
  {
   "cell_type": "code",
   "execution_count": 22,
   "metadata": {},
   "outputs": [
    {
     "data": {
      "text/markdown": [
       "The observation period was **40 days**"
      ],
      "text/plain": [
       "<IPython.core.display.Markdown object>"
      ]
     },
     "metadata": {},
     "output_type": "display_data"
    }
   ],
   "source": [
    "printmd('The observation period was **{} days**'.format((df['AppointmentDay'].max() - df['AppointmentDay'].min()).days))"
   ]
  },
  {
   "cell_type": "markdown",
   "metadata": {},
   "source": [
    "### Question 1: Does Gender impact the likihood of a patient attending the appointment?"
   ]
  },
  {
   "cell_type": "code",
   "execution_count": 23,
   "metadata": {},
   "outputs": [
    {
     "data": {
      "text/html": [
       "<div>\n",
       "<style scoped>\n",
       "    .dataframe tbody tr th:only-of-type {\n",
       "        vertical-align: middle;\n",
       "    }\n",
       "\n",
       "    .dataframe tbody tr th {\n",
       "        vertical-align: top;\n",
       "    }\n",
       "\n",
       "    .dataframe thead th {\n",
       "        text-align: right;\n",
       "    }\n",
       "</style>\n",
       "<table border=\"1\" class=\"dataframe\">\n",
       "  <thead>\n",
       "    <tr style=\"text-align: right;\">\n",
       "      <th></th>\n",
       "      <th>No-show</th>\n",
       "      <th>Gender</th>\n",
       "      <th>Count</th>\n",
       "    </tr>\n",
       "  </thead>\n",
       "  <tbody>\n",
       "    <tr>\n",
       "      <th>0</th>\n",
       "      <td>Attended</td>\n",
       "      <td>F</td>\n",
       "      <td>57245</td>\n",
       "    </tr>\n",
       "    <tr>\n",
       "      <th>1</th>\n",
       "      <td>Attended</td>\n",
       "      <td>M</td>\n",
       "      <td>30962</td>\n",
       "    </tr>\n",
       "    <tr>\n",
       "      <th>2</th>\n",
       "      <td>NoShow</td>\n",
       "      <td>F</td>\n",
       "      <td>14594</td>\n",
       "    </tr>\n",
       "    <tr>\n",
       "      <th>3</th>\n",
       "      <td>NoShow</td>\n",
       "      <td>M</td>\n",
       "      <td>7725</td>\n",
       "    </tr>\n",
       "  </tbody>\n",
       "</table>\n",
       "</div>"
      ],
      "text/plain": [
       "    No-show Gender  Count\n",
       "0  Attended      F  57245\n",
       "1  Attended      M  30962\n",
       "2    NoShow      F  14594\n",
       "3    NoShow      M   7725"
      ]
     },
     "execution_count": 23,
     "metadata": {},
     "output_type": "execute_result"
    }
   ],
   "source": [
    "mf = df.groupby(['No-show','Gender'],as_index=False)['ScheduledDay'].count()\n",
    "mf.rename(columns={'ScheduledDay':'Count'},inplace=True)\n",
    "mf"
   ]
  },
  {
   "cell_type": "code",
   "execution_count": 24,
   "metadata": {},
   "outputs": [
    {
     "data": {
      "text/markdown": [
       "Gender does not appear to impact appointment attendance.        \n",
       "No show rate for males: **19.97%** \n",
       "No show rate for females **20.31%**"
      ],
      "text/plain": [
       "<IPython.core.display.Markdown object>"
      ]
     },
     "metadata": {},
     "output_type": "display_data"
    }
   ],
   "source": [
    "nsmale = df['Age'][(df['No-show'] == 'NoShow') & (df['Gender'] == 'M')].count().sum()\n",
    "smale = df['Age'][(df['No-show'] == 'Attended') & (df['Gender'] == 'M')].count().sum()\n",
    "male = df['Age'][df['Gender'] == 'M'].count().sum()\n",
    "nsm_pc = 100*nsmale/male\n",
    "sm_pc = 100*smale/male\n",
    "\n",
    "nsfemale = df['Age'][(df['No-show'] == 'NoShow') & (df['Gender'] == 'F')].count().sum()\n",
    "sfemale = df['Age'][(df['No-show'] == 'Attended') & (df['Gender'] == 'F')].count().sum()\n",
    "female = df['Age'][df['Gender'] == 'F'].count().sum()\n",
    "nsfm_pc = 100*nsfemale/female\n",
    "sfm_pc = 100*sfemale/female\n",
    "\n",
    "printmd('Gender does not appear to impact appointment attendance.\\\n",
    "        \\nNo show rate for males: **{:.2f}%** \\nNo show rate for females **{:.2f}%**'.format(nsm_pc,nsfm_pc))"
   ]
  },
  {
   "cell_type": "code",
   "execution_count": 25,
   "metadata": {},
   "outputs": [
    {
     "data": {
      "image/png": "[encoded data removed]",
      "text/plain": [
       "<Figure size 864x432 with 1 Axes>"
      ]
     },
     "metadata": {
      "needs_background": "light"
     },
     "output_type": "display_data"
    }
   ],
   "source": [
    "r = [1,2]\n",
    "barWidth = 0.3\n",
    "names = ['Male','Female']\n",
    "show = [sm_pc,sfm_pc]\n",
    "noshow = [nsm_pc,nsfm_pc]\n",
    "ax = plt.bar(r, show, color='blue', edgecolor='white', width=barWidth,label='Attended')\n",
    "plt.bar(r, noshow, bottom=show, color='orange', edgecolor='white', width=barWidth,label='No-Show')\n",
    "plt.xticks(r,names,fontsize=labelfont)\n",
    "plt.legend(loc='best',fontsize=labelfont)\n",
    "plt.grid(which='major',axis='y')\n",
    "plt.xlabel('Gender',fontsize=labelfont)\n",
    "plt.ylabel('Perecentage %', fontsize=labelfont)\n",
    "plt.title('Gender does not appear to impact appointment attendance',fontsize=labelfont)\n",
    "plt.show()"
   ]
  },
  {
   "cell_type": "code",
   "execution_count": 43,
   "metadata": {},
   "outputs": [
    {
     "data": {
      "image/png": "[encoded data removed]",
      "text/plain": [
       "<Figure size 864x432 with 1 Axes>"
      ]
     },
     "metadata": {
      "needs_background": "light"
     },
     "output_type": "display_data"
    }
   ],
   "source": [
    "g = sns.countplot(x=df.Gender, hue=df['No-show'], data=df)\n",
    "g.set_title('Impact of Gender on Attendance Rates')\n",
    "x_ticks_labels = ['Female','Male']\n",
    "g.set_xticklabels(x_ticks_labels)\n",
    "plt.show()"
   ]
  },
  {
   "cell_type": "markdown",
   "metadata": {},
   "source": [
    "### Question 2: Does Welfare Status impact the likihood of a patient attending the appointment?"
   ]
  },
  {
   "cell_type": "code",
   "execution_count": 27,
   "metadata": {},
   "outputs": [
    {
     "data": {
      "text/html": [
       "<div>\n",
       "<style scoped>\n",
       "    .dataframe tbody tr th:only-of-type {\n",
       "        vertical-align: middle;\n",
       "    }\n",
       "\n",
       "    .dataframe tbody tr th {\n",
       "        vertical-align: top;\n",
       "    }\n",
       "\n",
       "    .dataframe thead th {\n",
       "        text-align: right;\n",
       "    }\n",
       "</style>\n",
       "<table border=\"1\" class=\"dataframe\">\n",
       "  <thead>\n",
       "    <tr style=\"text-align: right;\">\n",
       "      <th></th>\n",
       "      <th>No-show</th>\n",
       "      <th>Scholarship</th>\n",
       "      <th>Count</th>\n",
       "    </tr>\n",
       "  </thead>\n",
       "  <tbody>\n",
       "    <tr>\n",
       "      <th>0</th>\n",
       "      <td>Attended</td>\n",
       "      <td>0</td>\n",
       "      <td>79924</td>\n",
       "    </tr>\n",
       "    <tr>\n",
       "      <th>1</th>\n",
       "      <td>Attended</td>\n",
       "      <td>1</td>\n",
       "      <td>8283</td>\n",
       "    </tr>\n",
       "    <tr>\n",
       "      <th>2</th>\n",
       "      <td>NoShow</td>\n",
       "      <td>0</td>\n",
       "      <td>19741</td>\n",
       "    </tr>\n",
       "    <tr>\n",
       "      <th>3</th>\n",
       "      <td>NoShow</td>\n",
       "      <td>1</td>\n",
       "      <td>2578</td>\n",
       "    </tr>\n",
       "  </tbody>\n",
       "</table>\n",
       "</div>"
      ],
      "text/plain": [
       "    No-show  Scholarship  Count\n",
       "0  Attended            0  79924\n",
       "1  Attended            1   8283\n",
       "2    NoShow            0  19741\n",
       "3    NoShow            1   2578"
      ]
     },
     "execution_count": 27,
     "metadata": {},
     "output_type": "execute_result"
    }
   ],
   "source": [
    "sw = df.groupby(['No-show','Scholarship'],as_index=False)['ScheduledDay'].count()\n",
    "sw.rename(columns={'ScheduledDay':'Count'},inplace=True)\n",
    "sw"
   ]
  },
  {
   "cell_type": "code",
   "execution_count": 28,
   "metadata": {},
   "outputs": [
    {
     "data": {
      "text/markdown": [
       "The proportion of patients who didn't attend their appointment was slightly higher for those who receive welfare: <br/> No show rate on welfare: **23.74%** <br/>No show rate without welfare **19.81%**"
      ],
      "text/plain": [
       "<IPython.core.display.Markdown object>"
      ]
     },
     "metadata": {},
     "output_type": "display_data"
    }
   ],
   "source": [
    "nswelfare = df['Gender'][(df['No-show'] == 'NoShow') & (df['Scholarship'] == 1)].count().sum()\n",
    "swelfare = df['Gender'][(df['No-show'] == 'Attended') & (df['Scholarship'] == 1)].count().sum()\n",
    "welfare = df['Gender'][df['Scholarship'] == 1].count().sum()\n",
    "nsw_pc = 100*nswelfare/welfare\n",
    "sw_pc = 100*swelfare/welfare\n",
    "\n",
    "nsnw = df['Gender'][(df['No-show'] == 'NoShow') & (df['Scholarship'] == 0)].count().sum()\n",
    "snw = df['Gender'][(df['No-show'] == 'Attended') & (df['Scholarship'] == 0)].count().sum()\n",
    "nw = df['Gender'][df['Scholarship'] == 0].count().sum()\n",
    "nsnw_pc = 100*nsnw/nw\n",
    "snw_pc = 100*snw/nw\n",
    "\n",
    "printmd('The proportion of patients who didn\\'t attend their appointment was slightly higher\\\n",
    " for those who receive welfare: <br/> \\\n",
    "No show rate on welfare: **{:.2f}%** <br/>\\\n",
    "No show rate without welfare **{:.2f}%**'.format(nsw_pc,nsnw_pc))"
   ]
  },
  {
   "cell_type": "code",
   "execution_count": 44,
   "metadata": {},
   "outputs": [
    {
     "data": {
      "image/png": "[encoded data removed]",
      "text/plain": [
       "<Figure size 864x432 with 1 Axes>"
      ]
     },
     "metadata": {
      "needs_background": "light"
     },
     "output_type": "display_data"
    }
   ],
   "source": [
    "r = [1,2]\n",
    "barWidth = 0.3\n",
    "names = ['No Welfare','Welfare']\n",
    "show = [snw_pc,sw_pc]\n",
    "noshow = [nsnw_pc,nsw_pc]\n",
    "ax = plt.bar(r, show, color='blue', edgecolor='white', width=barWidth,label='Attended')\n",
    "plt.bar(r, noshow, bottom=show, color='orange', edgecolor='white', width=barWidth,label='No-Show')\n",
    "plt.xticks(r,names,fontsize=labelfont)\n",
    "plt.legend(loc='best',fontsize=labelfont)\n",
    "plt.grid(which='major',axis='y')\n",
    "plt.xlabel('Welfare Status',fontsize=labelfont)\n",
    "plt.ylabel('Perecentage %', fontsize=labelfont)\n",
    "plt.title('A slightly higher % of patients on welfare missed appointments',fontsize=labelfont)\n",
    "plt.show()"
   ]
  },
  {
   "cell_type": "code",
   "execution_count": 30,
   "metadata": {},
   "outputs": [
    {
     "data": {
      "image/png": "[encoded data removed]",
      "text/plain": [
       "<Figure size 864x432 with 1 Axes>"
      ]
     },
     "metadata": {
      "needs_background": "light"
     },
     "output_type": "display_data"
    }
   ],
   "source": [
    "g = sns.countplot(x=df['Scholarship'], hue=df['No-show'], data=df)\n",
    "g.set_title('Comparision of patients who attended their appointment WRT welfare',fontsize=labelfont)\n",
    "x_ticks_labels = ['No Welfare','Welfare']\n",
    "g.set_xticklabels(x_ticks_labels)\n",
    "g.set_xlabel('Welfare',fontsize=labelfont)\n",
    "g.set_ylabel('No of Patients',fontsize=labelfont)\n",
    "plt.show()"
   ]
  },
  {
   "cell_type": "markdown",
   "metadata": {},
   "source": [
    "### Question 3: Does appointment day impact the likihood of a patient attending the appointment?"
   ]
  },
  {
   "cell_type": "markdown",
   "metadata": {},
   "source": [
    "The data clearly shows that the majority of appointments are __Monday-Friday__\n",
    "\n",
    "__Satruday__ has a small number of appointments\n",
    "\n",
    "The clinic is likely closed on __Sunday__, so no appointments are recorded."
   ]
  },
  {
   "cell_type": "code",
   "execution_count": 31,
   "metadata": {},
   "outputs": [
    {
     "data": {
      "text/plain": [
       "Wednesday    25867\n",
       "Tuesday      25640\n",
       "Monday       22714\n",
       "Friday       19019\n",
       "Thursday     17247\n",
       "Saturday        39\n",
       "Name: Week_Day, dtype: int64"
      ]
     },
     "execution_count": 31,
     "metadata": {},
     "output_type": "execute_result"
    }
   ],
   "source": [
    "df['Week_Day'].value_counts()"
   ]
  },
  {
   "cell_type": "markdown",
   "metadata": {},
   "source": [
    "Create a list to order the xticks on the bar chart below"
   ]
  },
  {
   "cell_type": "code",
   "execution_count": 32,
   "metadata": {},
   "outputs": [],
   "source": [
    "days = ['Monday','Tuesday','Wednesday','Thursday','Friday','Saturday','Sunday']"
   ]
  },
  {
   "cell_type": "code",
   "execution_count": 33,
   "metadata": {},
   "outputs": [
    {
     "data": {
      "image/png": "[encoded data removed]",
      "text/plain": [
       "<Figure size 864x432 with 1 Axes>"
      ]
     },
     "metadata": {
      "needs_background": "light"
     },
     "output_type": "display_data"
    }
   ],
   "source": [
    "g = sns.countplot(x=df['Week_Day'],order=days)\n",
    "g.set_title('Appointment Per Weekday',fontsize=labelfont)\n",
    "g.set_ylabel('No of Appointments',fontsize=axisfont)\n",
    "g.set_xlabel('Weekdays',fontsize=axisfont);"
   ]
  },
  {
   "cell_type": "code",
   "execution_count": 34,
   "metadata": {},
   "outputs": [
    {
     "data": {
      "image/png": "[encoded data removed]",
      "text/plain": [
       "<Figure size 864x432 with 1 Axes>"
      ]
     },
     "metadata": {
      "needs_background": "light"
     },
     "output_type": "display_data"
    }
   ],
   "source": [
    "g = sns.countplot(x=df['Week_Day'],hue=df['No-show'],order=days)\n",
    "g.set_title('Appointment Per Weekday',fontsize=labelfont)\n",
    "g.set_ylabel('No of Appointments',fontsize=axisfont)\n",
    "g.set_xlabel('Weekdays',fontsize=axisfont)\n",
    "plt.legend(loc='upper right');"
   ]
  },
  {
   "cell_type": "code",
   "execution_count": 35,
   "metadata": {},
   "outputs": [],
   "source": [
    "dfweek = df[df['No-show'] == 'NoShow'].groupby(['Week_Day']).count()/df.groupby(['Week_Day']).count()\n",
    "results = dfweek['No-show']"
   ]
  },
  {
   "cell_type": "code",
   "execution_count": 36,
   "metadata": {},
   "outputs": [
    {
     "data": {
      "image/png": "[encoded data removed]",
      "text/plain": [
       "<Figure size 864x432 with 1 Axes>"
      ]
     },
     "metadata": {
      "needs_background": "light"
     },
     "output_type": "display_data"
    }
   ],
   "source": [
    "g = sns.barplot(x=dfweek.index,y=dfweek['No-show'],order=days)\n",
    "g.set_title('Percentage of missed appointments per day',fontsize=labelfont)\n",
    "g.set_ylabel('Percentage %',fontsize=axisfont)\n",
    "g.set_xlabel('Weekdays',fontsize=axisfont);"
   ]
  },
  {
   "cell_type": "code",
   "execution_count": 37,
   "metadata": {},
   "outputs": [
    {
     "data": {
      "text/html": [
       "<div>\n",
       "<style scoped>\n",
       "    .dataframe tbody tr th:only-of-type {\n",
       "        vertical-align: middle;\n",
       "    }\n",
       "\n",
       "    .dataframe tbody tr th {\n",
       "        vertical-align: top;\n",
       "    }\n",
       "\n",
       "    .dataframe thead th {\n",
       "        text-align: right;\n",
       "    }\n",
       "</style>\n",
       "<table border=\"1\" class=\"dataframe\">\n",
       "  <thead>\n",
       "    <tr style=\"text-align: right;\">\n",
       "      <th></th>\n",
       "      <th>No-show</th>\n",
       "      <th>Week_Day</th>\n",
       "      <th>Count</th>\n",
       "    </tr>\n",
       "  </thead>\n",
       "  <tbody>\n",
       "    <tr>\n",
       "      <th>0</th>\n",
       "      <td>Attended</td>\n",
       "      <td>Friday</td>\n",
       "      <td>14982</td>\n",
       "    </tr>\n",
       "    <tr>\n",
       "      <th>1</th>\n",
       "      <td>Attended</td>\n",
       "      <td>Monday</td>\n",
       "      <td>18024</td>\n",
       "    </tr>\n",
       "    <tr>\n",
       "      <th>2</th>\n",
       "      <td>Attended</td>\n",
       "      <td>Saturday</td>\n",
       "      <td>30</td>\n",
       "    </tr>\n",
       "    <tr>\n",
       "      <th>3</th>\n",
       "      <td>Attended</td>\n",
       "      <td>Thursday</td>\n",
       "      <td>13909</td>\n",
       "    </tr>\n",
       "    <tr>\n",
       "      <th>4</th>\n",
       "      <td>Attended</td>\n",
       "      <td>Tuesday</td>\n",
       "      <td>20488</td>\n",
       "    </tr>\n",
       "    <tr>\n",
       "      <th>5</th>\n",
       "      <td>Attended</td>\n",
       "      <td>Wednesday</td>\n",
       "      <td>20774</td>\n",
       "    </tr>\n",
       "    <tr>\n",
       "      <th>6</th>\n",
       "      <td>NoShow</td>\n",
       "      <td>Friday</td>\n",
       "      <td>4037</td>\n",
       "    </tr>\n",
       "    <tr>\n",
       "      <th>7</th>\n",
       "      <td>NoShow</td>\n",
       "      <td>Monday</td>\n",
       "      <td>4690</td>\n",
       "    </tr>\n",
       "    <tr>\n",
       "      <th>8</th>\n",
       "      <td>NoShow</td>\n",
       "      <td>Saturday</td>\n",
       "      <td>9</td>\n",
       "    </tr>\n",
       "    <tr>\n",
       "      <th>9</th>\n",
       "      <td>NoShow</td>\n",
       "      <td>Thursday</td>\n",
       "      <td>3338</td>\n",
       "    </tr>\n",
       "    <tr>\n",
       "      <th>10</th>\n",
       "      <td>NoShow</td>\n",
       "      <td>Tuesday</td>\n",
       "      <td>5152</td>\n",
       "    </tr>\n",
       "    <tr>\n",
       "      <th>11</th>\n",
       "      <td>NoShow</td>\n",
       "      <td>Wednesday</td>\n",
       "      <td>5093</td>\n",
       "    </tr>\n",
       "  </tbody>\n",
       "</table>\n",
       "</div>"
      ],
      "text/plain": [
       "     No-show   Week_Day  Count\n",
       "0   Attended     Friday  14982\n",
       "1   Attended     Monday  18024\n",
       "2   Attended   Saturday     30\n",
       "3   Attended   Thursday  13909\n",
       "4   Attended    Tuesday  20488\n",
       "5   Attended  Wednesday  20774\n",
       "6     NoShow     Friday   4037\n",
       "7     NoShow     Monday   4690\n",
       "8     NoShow   Saturday      9\n",
       "9     NoShow   Thursday   3338\n",
       "10    NoShow    Tuesday   5152\n",
       "11    NoShow  Wednesday   5093"
      ]
     },
     "execution_count": 37,
     "metadata": {},
     "output_type": "execute_result"
    }
   ],
   "source": [
    "weekday = df.groupby(['No-show','Week_Day'],as_index=False)['ScheduledDay'].count()\n",
    "weekday.rename(columns={'ScheduledDay':'Count'},inplace=True)\n",
    "weekday"
   ]
  },
  {
   "cell_type": "code",
   "execution_count": 38,
   "metadata": {},
   "outputs": [
    {
     "data": {
      "text/markdown": [
       "**Thursday** has the lowest % of no shows at **19.35%** <br/> **Saturday** has the highest % of no shows **23.08%**"
      ],
      "text/plain": [
       "<IPython.core.display.Markdown object>"
      ]
     },
     "metadata": {},
     "output_type": "display_data"
    }
   ],
   "source": [
    "printmd('**Thursday** has the lowest % of no shows at **{:.2f}%** <br/> \\\n",
    "**Saturday** has the highest % of no shows **{:.2f}%**'.format(results['Thursday']*100,results['Saturday']*100))"
   ]
  },
  {
   "cell_type": "markdown",
   "metadata": {},
   "source": [
    "### Question 4: Does an SMS Notification impact the likihood of a patient attending the appointment?"
   ]
  },
  {
   "cell_type": "code",
   "execution_count": 39,
   "metadata": {},
   "outputs": [
    {
     "data": {
      "image/png": "[encoded data removed]",
      "text/plain": [
       "<Figure size 864x432 with 1 Axes>"
      ]
     },
     "metadata": {
      "needs_background": "light"
     },
     "output_type": "display_data"
    }
   ],
   "source": [
    "g = sns.countplot(x=df['SMS_received'],hue=df['No-show'])\n",
    "g.set_title('Impact of SMS Notification on Attendance',fontsize=labelfont)\n",
    "g.set_ylabel('No of Appointments',fontsize=axisfont)\n",
    "g.set_xlabel('SMS Received',fontsize=axisfont)\n",
    "g.set_xticklabels(['No Text','Received Text']);"
   ]
  },
  {
   "cell_type": "code",
   "execution_count": 40,
   "metadata": {},
   "outputs": [
    {
     "data": {
      "text/plain": [
       "SMS_received\n",
       "0    0.167035\n",
       "1    0.275745\n",
       "Name: No-show, dtype: float64"
      ]
     },
     "execution_count": 40,
     "metadata": {},
     "output_type": "execute_result"
    }
   ],
   "source": [
    "dfsms = df[df['No-show'] == 'NoShow'].groupby(['SMS_received']).count()/df.groupby(['SMS_received']).count()\n",
    "results = dfsms['No-show']\n",
    "results"
   ]
  },
  {
   "cell_type": "code",
   "execution_count": 41,
   "metadata": {},
   "outputs": [
    {
     "data": {
      "image/png": "[encoded data removed]",
      "text/plain": [
       "<Figure size 864x432 with 1 Axes>"
      ]
     },
     "metadata": {
      "needs_background": "light"
     },
     "output_type": "display_data"
    }
   ],
   "source": [
    "g = sns.barplot(x=dfsms.index,y=dfsms['No-show'])\n",
    "g.set_title('Percentage of Patients who missed appointments with/without SMS reminder',fontsize=labelfont)\n",
    "g.set_ylabel('Percentage %',fontsize=axisfont)\n",
    "g.set_xlabel('Reminder',fontsize=axisfont)\n",
    "g.set_xticklabels(['No SMS','SMS Received']);"
   ]
  },
  {
   "cell_type": "code",
   "execution_count": 42,
   "metadata": {},
   "outputs": [
    {
     "data": {
      "text/markdown": [
       "Patients who didn't receive an SMS reminder missed fewer appointments: **16.70%** <br/> <br/> Patients who received an SMS reminder missed more appointments **27.57%**"
      ],
      "text/plain": [
       "<IPython.core.display.Markdown object>"
      ]
     },
     "metadata": {},
     "output_type": "display_data"
    }
   ],
   "source": [
    "printmd('Patients who didn\\'t receive an SMS reminder missed fewer appointments: **{:.2f}%** <br/> <br/> \\\n",
    "Patients who received an SMS reminder missed more appointments **{:.2f}%**'.format(results[0]*100,results[1]*100))"
   ]
  },
  {
   "cell_type": "markdown",
   "metadata": {},
   "source": [
    "<a id='conclusions'></a>\n",
    "## Conclusions"
   ]
  },
  {
   "cell_type": "markdown",
   "metadata": {},
   "source": [
    "### Comments on Dataset\n",
    "\n",
    "The data required very little cleaning. There were no missing values and only a small fraction of annomolies.\n",
    "\n",
    "The obseravation period was only for a 40 days, which may not be entirely representative of longer term patient attendance rates.\n",
    "\n",
    "On average, only 20% of patients missed appointments.\n",
    "\n",
    "### Research Questions\n",
    "\n",
    " - __Question 1__: Does Gender impact the likihood of a patient attending the appointment?\n",
    "\n",
    "Gender didn't appear to make an impact on patient attendance likelihood. __Both male and female patients missed around 20% of their appointments__\n",
    " \n",
    " \n",
    " - __Question 2__: Does Welfare Status impact the likihood of a patient attending the appointment?\n",
    "\n",
    "Patients on Welfare were more likely to miss their appointment. __24% of patients on welfare didn't show up__, whereas only __20% of those not on welfare missed their appointments.__\n",
    "\n",
    "\n",
    " - __Question 3__: Does appointment day impact the likihood of a patient attending the appointment?\n",
    "\n",
    "Yes day of the week does have an impact. Appointments booked on a Thursday have the lowest likelihood of being missed. Appointments booked on a Saturday have the highest likelihood of being missed. \n",
    " \n",
    "No show rate on Thursday is 19%\n",
    "No show rate on Saturday is 23% \n",
    "                 \n",
    " - __Question 4__: Does an SMS Notification impact the likihood of a patient attending the appointment?\n",
    "\n",
    "Patients who received an SMS were more likely to miss their appointment.\n",
    " \n",
    "28% of patients who received an SMS reminder missed their appointment.\n",
    "Whereas, only 16% of patients who didn't receive an SMS reminder missed their appointment.\n",
    "\n",
    "This is counter intuitative. One would expect higher attendance with a reminder."
   ]
  },
  {
   "cell_type": "markdown",
   "metadata": {
    "collapsed": true
   },
   "source": [
    "<a id='ref'></a>\n",
    "## References"
   ]
  },
  {
   "cell_type": "markdown",
   "metadata": {},
   "source": [
    "https://www.kaggle.com/joniarroba/noshowappointments/kernels"
   ]
  }
 ],
 "metadata": {
  "kernelspec": {
   "display_name": "Python 3",
   "language": "python",
   "name": "python3"
  },
  "language_info": {
   "codemirror_mode": {
    "name": "ipython",
    "version": 3
   },
   "file_extension": ".py",
   "mimetype": "text/x-python",
   "name": "python",
   "nbconvert_exporter": "python",
   "pygments_lexer": "ipython3",
   "version": "3.7.3"
  }
 },
 "nbformat": 4,
 "nbformat_minor": 2
}
